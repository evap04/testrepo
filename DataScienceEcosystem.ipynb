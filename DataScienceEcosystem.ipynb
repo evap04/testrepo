{
 "cells": [
  {
   "cell_type": "markdown",
   "id": "d5cc4a2a-ee71-45ae-ace3-dd97e580dd9c",
   "metadata": {},
   "source": [
    "# Data Science Tools and Ecosystem"
   ]
  },
  {
   "cell_type": "markdown",
   "id": "6768245c-fc25-42ce-aafc-a1c5b129a842",
   "metadata": {},
   "source": [
    "#In this notebook, Data Science Tools and Ecosystem are summarized."
   ]
  },
  {
   "cell_type": "markdown",
   "id": "8c8acbd7-ff12-4ea3-9a78-5c89b87ca0c8",
   "metadata": {},
   "source": [
    "Objectives:\n",
    "•\tPopular Data Scientist Libraries\n",
    "•\tSample Code\n",
    "•\tPopular Data Scientist Languages \n",
    "\n"
   ]
  },
  {
   "cell_type": "markdown",
   "id": "8247b733-48fc-47dc-afd6-ab23a0f53163",
   "metadata": {},
   "source": [
    "Some of the popular languages that Data Scientists use are 1. R 2. Python 3. SQL"
   ]
  },
  {
   "cell_type": "markdown",
   "id": "85989118-b8b2-4f81-8cb0-eca6eaaf0ba3",
   "metadata": {},
   "source": [
    "Some of the commonly used libraries used by Data Scientists include: 1.) Pandas 2.) ggplot2 3.) SQLite"
   ]
  },
  {
   "cell_type": "markdown",
   "id": "fd94593e-c506-49ed-bafb-e8dd07fbecd8",
   "metadata": {},
   "source": [
    "| Data Science Tools        |\n",
    "|---------------------------|\n",
    "| Jupyter Notebook          |\n",
    "| RStudio                   |\n",
    "| Apache Zeppelin           |\n"
   ]
  },
  {
   "cell_type": "markdown",
   "id": "52eeabca-2bf6-450e-bed5-937477534665",
   "metadata": {},
   "source": [
    "#Below are a few examples of evaluating arithmetic expressions in Python\n"
   ]
  },
  {
   "cell_type": "code",
   "execution_count": 1,
   "id": "3fdce5cf-956d-4821-9fc6-7778728bd36b",
   "metadata": {},
   "outputs": [
    {
     "data": {
      "text/plain": [
       "17"
      ]
     },
     "execution_count": 1,
     "metadata": {},
     "output_type": "execute_result"
    }
   ],
   "source": [
    "#This a simple arithmetic expression to mutiply then add integers\n",
    "(3*4)+5"
   ]
  },
  {
   "cell_type": "code",
   "execution_count": 1,
   "id": "3f86d19d-5c71-446c-9805-99046cf543de",
   "metadata": {},
   "outputs": [
    {
     "data": {
      "text/plain": [
       "3.3333333333333335"
      ]
     },
     "execution_count": 1,
     "metadata": {},
     "output_type": "execute_result"
    }
   ],
   "source": [
    "#This will convert 200 minutes to hours by diving by 60\n",
    "minutes = 200\n",
    "hours = minutes / 60\n",
    "hours\n"
   ]
  },
  {
   "cell_type": "code",
   "execution_count": null,
   "id": "6f9e2259-07d3-41e9-bec1-c15cdbaca59c",
   "metadata": {},
   "outputs": [],
   "source": []
  },
  {
   "cell_type": "markdown",
   "id": "94252061-8519-40d7-8159-ee800d2e88d2",
   "metadata": {},
   "source": [
    "## Author\n",
    "E.P."
   ]
  },
  {
   "cell_type": "code",
   "execution_count": null,
   "id": "77031a95-a3da-469c-8763-a129a306a5ba",
   "metadata": {},
   "outputs": [],
   "source": []
  }
 ],
 "metadata": {
  "kernelspec": {
   "display_name": "Python 3 (ipykernel)",
   "language": "python",
   "name": "python3"
  },
  "language_info": {
   "codemirror_mode": {
    "name": "ipython",
    "version": 3
   },
   "file_extension": ".py",
   "mimetype": "text/x-python",
   "name": "python",
   "nbconvert_exporter": "python",
   "pygments_lexer": "ipython3",
   "version": "3.11.9"
  }
 },
 "nbformat": 4,
 "nbformat_minor": 5
}
